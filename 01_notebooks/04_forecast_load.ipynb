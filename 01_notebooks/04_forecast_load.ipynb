{
 "cells": [
  {
   "cell_type": "markdown",
   "metadata": {},
   "source": [
    "# Forecast load"
   ]
  },
  {
   "cell_type": "markdown",
   "metadata": {},
   "source": [
    "## Setup"
   ]
  },
  {
   "cell_type": "code",
   "execution_count": 58,
   "metadata": {},
   "outputs": [],
   "source": [
    "import pandas as pd\n",
    "import numpy as np\n",
    "import matplotlib.pyplot as plt\n",
    "import seaborn as sns\n",
    "\n",
    "import pickle\n",
    "from datetime import datetime, timedelta\n",
    "\n",
    "import pymysql\n",
    "\n",
    "from tensorflow.keras.models import load_model"
   ]
  },
  {
   "cell_type": "markdown",
   "metadata": {},
   "source": [
    "## Hyperparameter"
   ]
  },
  {
   "cell_type": "code",
   "execution_count": 49,
   "metadata": {},
   "outputs": [],
   "source": [
    "# mysql\n",
    "HOST = 'ENDPOINT'\n",
    "USER = 'USER'\n",
    "PASSWORD = 'PASSWORD'\n",
    "PORT = 3306\n",
    "DB = 'DB'\n",
    "\n",
    "# forecast\n",
    "PATH_MODEL = '/home/ubuntu/github/airflow-automation/03_models/nn.h5'\n",
    "PATH_SCALER = '/home/ubuntu/github/airflow-automation/03_models/scaler.pkl'\n",
    "PATH_CSV_01 = '/home/ubuntu/github/airflow-automation/01_notebooks/post_processing.csv'\n",
    "\n",
    "plt.style.use('default')"
   ]
  },
  {
   "cell_type": "markdown",
   "metadata": {},
   "source": [
    "## Model"
   ]
  },
  {
   "cell_type": "code",
   "execution_count": 7,
   "metadata": {},
   "outputs": [],
   "source": [
    "model = load_model(PATH_MODEL)"
   ]
  },
  {
   "cell_type": "markdown",
   "metadata": {},
   "source": [
    "## Scaler"
   ]
  },
  {
   "cell_type": "code",
   "execution_count": 8,
   "metadata": {},
   "outputs": [],
   "source": [
    "scaler = pickle.load(open(PATH_SCALER, 'rb'))"
   ]
  },
  {
   "cell_type": "markdown",
   "metadata": {},
   "source": [
    "## Temperature forecast"
   ]
  },
  {
   "cell_type": "code",
   "execution_count": 52,
   "metadata": {},
   "outputs": [],
   "source": [
    "# connection\n",
    "connection = pymysql.connect(host=HOST, user=USER, password=PASSWORD, port=PORT, db=DB)\n",
    "\n",
    "# query\n",
    "# query = \"\"\"\n",
    "# SELECT MAX(created_at) FROM jupyterdb.nam_data\n",
    "# \"\"\"\n",
    "query = \"\"\"\n",
    "SELECT \n",
    "  * \n",
    "FROM \n",
    "  jupyterdb.nam_data \n",
    "WHERE \n",
    "  created_at = (\n",
    "    SELECT MAX(created_at) FROM jupyterdb.nam_data\n",
    "  )\n",
    "\"\"\"\n",
    "\n",
    "df = pd.read_sql(query, con = connection)\n",
    "\n",
    "# index\n",
    "df['validity_time_str'] = ['0' + str(v // 100) if (v // 100) < 10 else str(v // 100) for v in df['validity_time']]\n",
    "df['validity_index'] = df['validity_date'].astype(str) + ' ' + df['validity_time_str']\n",
    "df['validity_index'] = pd.to_datetime(df['validity_index'], format = '%Y%m%d %H')\n",
    "df = df.set_index('validity_index').tz_localize('UTC').tz_convert('America/Denver').tz_localize(None).sort_index()\n",
    "\n",
    "# remove duplicate\n",
    "df = df.sort_values(by = ['data_date', 'data_time'], ascending = [False, False])\n",
    "df = df.loc[~df.index.duplicated(keep = 'first')].sort_index()\n",
    "\n",
    "# forecast horizon\n",
    "df = df.loc[df.index >= (datetime.now() - timedelta(hours = 6))]\n",
    "\n",
    "# convert temperature\n",
    "df['temp_f'] = df['value'] * 9/5 - 459.67\n",
    "\n",
    "df_nam = df.copy()"
   ]
  },
  {
   "cell_type": "code",
   "execution_count": 53,
   "metadata": {},
   "outputs": [
    {
     "data": {
      "text/html": [
       "<div>\n",
       "<style scoped>\n",
       "    .dataframe tbody tr th:only-of-type {\n",
       "        vertical-align: middle;\n",
       "    }\n",
       "\n",
       "    .dataframe tbody tr th {\n",
       "        vertical-align: top;\n",
       "    }\n",
       "\n",
       "    .dataframe thead th {\n",
       "        text-align: right;\n",
       "    }\n",
       "</style>\n",
       "<table border=\"1\" class=\"dataframe\">\n",
       "  <thead>\n",
       "    <tr style=\"text-align: right;\">\n",
       "      <th></th>\n",
       "      <th>name</th>\n",
       "      <th>latitude</th>\n",
       "      <th>longitude</th>\n",
       "      <th>level</th>\n",
       "      <th>type_of_level</th>\n",
       "      <th>data_date</th>\n",
       "      <th>data_time</th>\n",
       "      <th>validity_date</th>\n",
       "      <th>validity_time</th>\n",
       "      <th>value</th>\n",
       "      <th>unit</th>\n",
       "      <th>created_at</th>\n",
       "      <th>validity_time_str</th>\n",
       "      <th>temp_f</th>\n",
       "    </tr>\n",
       "    <tr>\n",
       "      <th>validity_index</th>\n",
       "      <th></th>\n",
       "      <th></th>\n",
       "      <th></th>\n",
       "      <th></th>\n",
       "      <th></th>\n",
       "      <th></th>\n",
       "      <th></th>\n",
       "      <th></th>\n",
       "      <th></th>\n",
       "      <th></th>\n",
       "      <th></th>\n",
       "      <th></th>\n",
       "      <th></th>\n",
       "      <th></th>\n",
       "    </tr>\n",
       "  </thead>\n",
       "  <tbody>\n",
       "    <tr>\n",
       "      <th>2020-07-21 21:00:00</th>\n",
       "      <td>Temperature</td>\n",
       "      <td>39.83</td>\n",
       "      <td>-104.65</td>\n",
       "      <td>0</td>\n",
       "      <td>surface</td>\n",
       "      <td>20200721</td>\n",
       "      <td>1800</td>\n",
       "      <td>20200722</td>\n",
       "      <td>300</td>\n",
       "      <td>293.292235</td>\n",
       "      <td>K</td>\n",
       "      <td>2020-07-21 20:15:23</td>\n",
       "      <td>03</td>\n",
       "      <td>68.256024</td>\n",
       "    </tr>\n",
       "    <tr>\n",
       "      <th>2020-07-21 22:00:00</th>\n",
       "      <td>Temperature</td>\n",
       "      <td>39.83</td>\n",
       "      <td>-104.65</td>\n",
       "      <td>0</td>\n",
       "      <td>surface</td>\n",
       "      <td>20200721</td>\n",
       "      <td>1800</td>\n",
       "      <td>20200722</td>\n",
       "      <td>400</td>\n",
       "      <td>292.621845</td>\n",
       "      <td>K</td>\n",
       "      <td>2020-07-21 20:15:23</td>\n",
       "      <td>04</td>\n",
       "      <td>67.049320</td>\n",
       "    </tr>\n",
       "  </tbody>\n",
       "</table>\n",
       "</div>"
      ],
      "text/plain": [
       "                            name  latitude  longitude  level type_of_level  \\\n",
       "validity_index                                                               \n",
       "2020-07-21 21:00:00  Temperature     39.83    -104.65      0       surface   \n",
       "2020-07-21 22:00:00  Temperature     39.83    -104.65      0       surface   \n",
       "\n",
       "                     data_date  data_time  validity_date  validity_time  \\\n",
       "validity_index                                                            \n",
       "2020-07-21 21:00:00   20200721       1800       20200722            300   \n",
       "2020-07-21 22:00:00   20200721       1800       20200722            400   \n",
       "\n",
       "                          value unit          created_at validity_time_str  \\\n",
       "validity_index                                                               \n",
       "2020-07-21 21:00:00  293.292235    K 2020-07-21 20:15:23                03   \n",
       "2020-07-21 22:00:00  292.621845    K 2020-07-21 20:15:23                04   \n",
       "\n",
       "                        temp_f  \n",
       "validity_index                  \n",
       "2020-07-21 21:00:00  68.256024  \n",
       "2020-07-21 22:00:00  67.049320  "
      ]
     },
     "execution_count": 53,
     "metadata": {},
     "output_type": "execute_result"
    }
   ],
   "source": [
    "df_nam.head(2)"
   ]
  },
  {
   "cell_type": "code",
   "execution_count": 54,
   "metadata": {},
   "outputs": [
    {
     "data": {
      "text/html": [
       "<div>\n",
       "<style scoped>\n",
       "    .dataframe tbody tr th:only-of-type {\n",
       "        vertical-align: middle;\n",
       "    }\n",
       "\n",
       "    .dataframe tbody tr th {\n",
       "        vertical-align: top;\n",
       "    }\n",
       "\n",
       "    .dataframe thead th {\n",
       "        text-align: right;\n",
       "    }\n",
       "</style>\n",
       "<table border=\"1\" class=\"dataframe\">\n",
       "  <thead>\n",
       "    <tr style=\"text-align: right;\">\n",
       "      <th></th>\n",
       "      <th>name</th>\n",
       "      <th>latitude</th>\n",
       "      <th>longitude</th>\n",
       "      <th>level</th>\n",
       "      <th>type_of_level</th>\n",
       "      <th>data_date</th>\n",
       "      <th>data_time</th>\n",
       "      <th>validity_date</th>\n",
       "      <th>validity_time</th>\n",
       "      <th>value</th>\n",
       "      <th>unit</th>\n",
       "      <th>created_at</th>\n",
       "      <th>validity_time_str</th>\n",
       "      <th>temp_f</th>\n",
       "    </tr>\n",
       "    <tr>\n",
       "      <th>validity_index</th>\n",
       "      <th></th>\n",
       "      <th></th>\n",
       "      <th></th>\n",
       "      <th></th>\n",
       "      <th></th>\n",
       "      <th></th>\n",
       "      <th></th>\n",
       "      <th></th>\n",
       "      <th></th>\n",
       "      <th></th>\n",
       "      <th></th>\n",
       "      <th></th>\n",
       "      <th></th>\n",
       "      <th></th>\n",
       "    </tr>\n",
       "  </thead>\n",
       "  <tbody>\n",
       "    <tr>\n",
       "      <th>2020-07-24 15:00:00</th>\n",
       "      <td>Temperature</td>\n",
       "      <td>39.83</td>\n",
       "      <td>-104.65</td>\n",
       "      <td>0</td>\n",
       "      <td>surface</td>\n",
       "      <td>20200721</td>\n",
       "      <td>1200</td>\n",
       "      <td>20200724</td>\n",
       "      <td>2100</td>\n",
       "      <td>312.317381</td>\n",
       "      <td>K</td>\n",
       "      <td>2020-07-21 20:15:23</td>\n",
       "      <td>21</td>\n",
       "      <td>102.501286</td>\n",
       "    </tr>\n",
       "    <tr>\n",
       "      <th>2020-07-24 18:00:00</th>\n",
       "      <td>Temperature</td>\n",
       "      <td>39.83</td>\n",
       "      <td>-104.65</td>\n",
       "      <td>0</td>\n",
       "      <td>surface</td>\n",
       "      <td>20200721</td>\n",
       "      <td>1200</td>\n",
       "      <td>20200725</td>\n",
       "      <td>0</td>\n",
       "      <td>295.959911</td>\n",
       "      <td>K</td>\n",
       "      <td>2020-07-21 20:15:23</td>\n",
       "      <td>00</td>\n",
       "      <td>73.057840</td>\n",
       "    </tr>\n",
       "  </tbody>\n",
       "</table>\n",
       "</div>"
      ],
      "text/plain": [
       "                            name  latitude  longitude  level type_of_level  \\\n",
       "validity_index                                                               \n",
       "2020-07-24 15:00:00  Temperature     39.83    -104.65      0       surface   \n",
       "2020-07-24 18:00:00  Temperature     39.83    -104.65      0       surface   \n",
       "\n",
       "                     data_date  data_time  validity_date  validity_time  \\\n",
       "validity_index                                                            \n",
       "2020-07-24 15:00:00   20200721       1200       20200724           2100   \n",
       "2020-07-24 18:00:00   20200721       1200       20200725              0   \n",
       "\n",
       "                          value unit          created_at validity_time_str  \\\n",
       "validity_index                                                               \n",
       "2020-07-24 15:00:00  312.317381    K 2020-07-21 20:15:23                21   \n",
       "2020-07-24 18:00:00  295.959911    K 2020-07-21 20:15:23                00   \n",
       "\n",
       "                         temp_f  \n",
       "validity_index                   \n",
       "2020-07-24 15:00:00  102.501286  \n",
       "2020-07-24 18:00:00   73.057840  "
      ]
     },
     "execution_count": 54,
     "metadata": {},
     "output_type": "execute_result"
    }
   ],
   "source": [
    "df_nam.tail(2)"
   ]
  },
  {
   "cell_type": "markdown",
   "metadata": {},
   "source": [
    "## Post process temperature forecast"
   ]
  },
  {
   "cell_type": "code",
   "execution_count": 55,
   "metadata": {},
   "outputs": [],
   "source": [
    "df_pp = pd.read_csv(PATH_CSV_01)\n",
    "df_nam['hour'] = df_nam.index.hour\n",
    "index = df_nam.index\n",
    "df_nam = df_nam.merge(right = df_pp, how = 'left', on = 'hour')\n",
    "df_nam.index = index\n",
    "df_nam['temp_f_pp'] = df_nam['temp_f'] + df_nam['mean_error']"
   ]
  },
  {
   "cell_type": "code",
   "execution_count": 56,
   "metadata": {},
   "outputs": [
    {
     "data": {
      "image/png": "[encoded data removed]",
      "text/plain": [
       "<Figure size 640x480 with 1 Axes>"
      ]
     },
     "metadata": {},
     "output_type": "display_data"
    }
   ],
   "source": [
    "plt.plot(df_nam['temp_f'], label = 'NAM forecast')\n",
    "plt.plot(df_nam['temp_f_pp'], label = 'Post processed')\n",
    "plt.title('NAM temperature forecast')\n",
    "plt.xlabel('Date')\n",
    "plt.ylabel('Temperature (F)')\n",
    "plt.xticks(rotation = 45)\n",
    "plt.legend()\n",
    "plt.show()"
   ]
  },
  {
   "cell_type": "markdown",
   "metadata": {},
   "source": [
    "## Model input"
   ]
  },
  {
   "cell_type": "code",
   "execution_count": 60,
   "metadata": {},
   "outputs": [],
   "source": [
    "dates = pd.date_range(start = df_nam.index[0], end = df_nam.index[-1], freq = 'H')\n",
    "df_model = pd.DataFrame(data = np.repeat(None, len(dates)),\n",
    "                        index = dates,\n",
    "                        columns = ['tmp'])\n",
    "\n",
    "# make features\n",
    "df_model['temp_f'] = df_nam['temp_f_pp']\n",
    "df_model['year'] = df_model.index.year\n",
    "df_model['month'] = df_model.index.month\n",
    "df_model['day'] = df_model.index.day\n",
    "df_model['hour'] = df_model.index.hour\n",
    "df_model['dow'] = df_model.index.dayofweek\n",
    "\n",
    "# drop tmp column\n",
    "df_model = df_model.drop('tmp', axis = 1)"
   ]
  },
  {
   "cell_type": "markdown",
   "metadata": {},
   "source": [
    "## Linearly interpolate temperature"
   ]
  },
  {
   "cell_type": "code",
   "execution_count": 61,
   "metadata": {},
   "outputs": [],
   "source": [
    "df_model['temp_f'] = df_model['temp_f'].interpolate(method = 'linear')"
   ]
  },
  {
   "cell_type": "markdown",
   "metadata": {},
   "source": [
    "## Preprocess"
   ]
  },
  {
   "cell_type": "code",
   "execution_count": 62,
   "metadata": {},
   "outputs": [],
   "source": [
    "df_model_dropna = df_model.copy().dropna()\n",
    "df_model_dropna_scaled = scaler.transform(df_model_dropna)"
   ]
  },
  {
   "cell_type": "markdown",
   "metadata": {},
   "source": [
    "## Prediction"
   ]
  },
  {
   "cell_type": "code",
   "execution_count": 75,
   "metadata": {},
   "outputs": [],
   "source": [
    "y_pred = model.predict(df_model_dropna_scaled)\n",
    "df_model_dropna['forecast_load'] = y_pred\n",
    "df_model_dropna['created_at'] = datetime.now().strftime('%Y-%m-%d %H:%M:%S')"
   ]
  },
  {
   "cell_type": "markdown",
   "metadata": {},
   "source": [
    "## Visualize prediction"
   ]
  },
  {
   "cell_type": "code",
   "execution_count": 76,
   "metadata": {},
   "outputs": [
    {
     "data": {
      "image/png": "[encoded data removed]",
      "text/plain": [
       "<Figure size 640x480 with 2 Axes>"
      ]
     },
     "metadata": {},
     "output_type": "display_data"
    }
   ],
   "source": [
    "fig, (ax1, ax2) = plt.subplots(2, 1, sharex = True)\n",
    "\n",
    "ax1.plot(df_model_dropna['forecast_load'], label = 'Forecast load')\n",
    "ax1.set(title = 'Load forecast', ylabel = 'MW')\n",
    "\n",
    "ax2.plot(df_model_dropna['temp_f'], color = '#ff7f0e', label = 'Forecast temperature')\n",
    "ax2.set(title = 'Temperature forecast', ylabel = 'Fahrenheit', xlabel = 'Date')\n",
    "\n",
    "plt.setp(ax2.xaxis.get_majorticklabels(), rotation = 45)\n",
    "plt.tight_layout()\n",
    "plt.show()"
   ]
  },
  {
   "cell_type": "markdown",
   "metadata": {},
   "source": [
    "## Upload RDS"
   ]
  },
  {
   "cell_type": "code",
   "execution_count": 82,
   "metadata": {},
   "outputs": [],
   "source": [
    "df_rds = df_model_dropna.copy()\n",
    "df_rds = df_rds.reset_index()\n",
    "df_rds = df_rds.rename(columns = {'index': 'validity_index'})\n",
    "df_rds['validity_index'] = df_rds['validity_index'].dt.strftime('%Y-%m-%d %H:%M:%S')"
   ]
  },
  {
   "cell_type": "code",
   "execution_count": 83,
   "metadata": {},
   "outputs": [
    {
     "data": {
      "text/plain": [
       "(70, 9)"
      ]
     },
     "execution_count": 83,
     "metadata": {},
     "output_type": "execute_result"
    }
   ],
   "source": [
    "df_rds.shape"
   ]
  },
  {
   "cell_type": "code",
   "execution_count": 84,
   "metadata": {},
   "outputs": [
    {
     "data": {
      "text/html": [
       "<div>\n",
       "<style scoped>\n",
       "    .dataframe tbody tr th:only-of-type {\n",
       "        vertical-align: middle;\n",
       "    }\n",
       "\n",
       "    .dataframe tbody tr th {\n",
       "        vertical-align: top;\n",
       "    }\n",
       "\n",
       "    .dataframe thead th {\n",
       "        text-align: right;\n",
       "    }\n",
       "</style>\n",
       "<table border=\"1\" class=\"dataframe\">\n",
       "  <thead>\n",
       "    <tr style=\"text-align: right;\">\n",
       "      <th></th>\n",
       "      <th>validity_index</th>\n",
       "      <th>temp_f</th>\n",
       "      <th>year</th>\n",
       "      <th>month</th>\n",
       "      <th>day</th>\n",
       "      <th>hour</th>\n",
       "      <th>dow</th>\n",
       "      <th>forecast_load</th>\n",
       "      <th>created_at</th>\n",
       "    </tr>\n",
       "  </thead>\n",
       "  <tbody>\n",
       "    <tr>\n",
       "      <th>0</th>\n",
       "      <td>2020-07-21 21:00:00</td>\n",
       "      <td>70.911567</td>\n",
       "      <td>2020</td>\n",
       "      <td>7</td>\n",
       "      <td>21</td>\n",
       "      <td>21</td>\n",
       "      <td>1</td>\n",
       "      <td>6955.477539</td>\n",
       "      <td>2020-07-22 03:13:15</td>\n",
       "    </tr>\n",
       "    <tr>\n",
       "      <th>1</th>\n",
       "      <td>2020-07-21 22:00:00</td>\n",
       "      <td>68.853641</td>\n",
       "      <td>2020</td>\n",
       "      <td>7</td>\n",
       "      <td>21</td>\n",
       "      <td>22</td>\n",
       "      <td>1</td>\n",
       "      <td>6940.402344</td>\n",
       "      <td>2020-07-22 03:13:15</td>\n",
       "    </tr>\n",
       "  </tbody>\n",
       "</table>\n",
       "</div>"
      ],
      "text/plain": [
       "        validity_index     temp_f  year  month  day  hour  dow  forecast_load  \\\n",
       "0  2020-07-21 21:00:00  70.911567  2020      7   21    21    1    6955.477539   \n",
       "1  2020-07-21 22:00:00  68.853641  2020      7   21    22    1    6940.402344   \n",
       "\n",
       "            created_at  \n",
       "0  2020-07-22 03:13:15  \n",
       "1  2020-07-22 03:13:15  "
      ]
     },
     "execution_count": 84,
     "metadata": {},
     "output_type": "execute_result"
    }
   ],
   "source": [
    "df_rds.head(2)"
   ]
  },
  {
   "cell_type": "code",
   "execution_count": 85,
   "metadata": {},
   "outputs": [
    {
     "data": {
      "text/html": [
       "<div>\n",
       "<style scoped>\n",
       "    .dataframe tbody tr th:only-of-type {\n",
       "        vertical-align: middle;\n",
       "    }\n",
       "\n",
       "    .dataframe tbody tr th {\n",
       "        vertical-align: top;\n",
       "    }\n",
       "\n",
       "    .dataframe thead th {\n",
       "        text-align: right;\n",
       "    }\n",
       "</style>\n",
       "<table border=\"1\" class=\"dataframe\">\n",
       "  <thead>\n",
       "    <tr style=\"text-align: right;\">\n",
       "      <th></th>\n",
       "      <th>validity_index</th>\n",
       "      <th>temp_f</th>\n",
       "      <th>year</th>\n",
       "      <th>month</th>\n",
       "      <th>day</th>\n",
       "      <th>hour</th>\n",
       "      <th>dow</th>\n",
       "      <th>forecast_load</th>\n",
       "      <th>created_at</th>\n",
       "    </tr>\n",
       "  </thead>\n",
       "  <tbody>\n",
       "    <tr>\n",
       "      <th>68</th>\n",
       "      <td>2020-07-24 17:00:00</td>\n",
       "      <td>75.989418</td>\n",
       "      <td>2020</td>\n",
       "      <td>7</td>\n",
       "      <td>24</td>\n",
       "      <td>17</td>\n",
       "      <td>4</td>\n",
       "      <td>6668.732910</td>\n",
       "      <td>2020-07-22 03:13:15</td>\n",
       "    </tr>\n",
       "    <tr>\n",
       "      <th>69</th>\n",
       "      <td>2020-07-24 18:00:00</td>\n",
       "      <td>71.684961</td>\n",
       "      <td>2020</td>\n",
       "      <td>7</td>\n",
       "      <td>24</td>\n",
       "      <td>18</td>\n",
       "      <td>4</td>\n",
       "      <td>6481.312988</td>\n",
       "      <td>2020-07-22 03:13:15</td>\n",
       "    </tr>\n",
       "  </tbody>\n",
       "</table>\n",
       "</div>"
      ],
      "text/plain": [
       "         validity_index     temp_f  year  month  day  hour  dow  \\\n",
       "68  2020-07-24 17:00:00  75.989418  2020      7   24    17    4   \n",
       "69  2020-07-24 18:00:00  71.684961  2020      7   24    18    4   \n",
       "\n",
       "    forecast_load           created_at  \n",
       "68    6668.732910  2020-07-22 03:13:15  \n",
       "69    6481.312988  2020-07-22 03:13:15  "
      ]
     },
     "execution_count": 85,
     "metadata": {},
     "output_type": "execute_result"
    }
   ],
   "source": [
    "df_rds.tail(2)"
   ]
  },
  {
   "cell_type": "code",
   "execution_count": 86,
   "metadata": {},
   "outputs": [
    {
     "name": "stdout",
     "output_type": "stream",
     "text": [
      "number of records inserted 70\n"
     ]
    }
   ],
   "source": [
    "val_to_insert = df_rds.values.tolist()\n",
    "print('number of records inserted', len(val_to_insert))\n",
    "\n",
    "# connection\n",
    "connection = pymysql.connect(host=HOST, user=USER, password=PASSWORD, port=PORT, db=DB)\n",
    "\n",
    "# query\n",
    "query = \"\"\"\n",
    "INSERT INTO jupyterdb.psco_load_forecast\n",
    "VALUES (%s, %s, %s, %s, %s,\n",
    "        %s, %s, %s, %s)\n",
    "\"\"\"\n",
    "\n",
    "# execute\n",
    "cursor = connection.cursor()\n",
    "cursor.executemany(query, val_to_insert)\n",
    "connection.commit()"
   ]
  }
 ],
 "metadata": {
  "kernelspec": {
   "display_name": "Python 3",
   "language": "python",
   "name": "python3"
  },
  "language_info": {
   "codemirror_mode": {
    "name": "ipython",
    "version": 3
   },
   "file_extension": ".py",
   "mimetype": "text/x-python",
   "name": "python",
   "nbconvert_exporter": "python",
   "pygments_lexer": "ipython3",
   "version": "3.6.9"
  }
 },
 "nbformat": 4,
 "nbformat_minor": 4
}
