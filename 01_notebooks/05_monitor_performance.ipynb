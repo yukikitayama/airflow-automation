{
 "cells": [
  {
   "cell_type": "markdown",
   "metadata": {},
   "source": [
    "# Monitor performance"
   ]
  },
  {
   "cell_type": "markdown",
   "metadata": {},
   "source": [
    "## Setup"
   ]
  },
  {
   "cell_type": "code",
   "execution_count": 31,
   "metadata": {},
   "outputs": [],
   "source": [
    "import pandas as pd\n",
    "import numpy as np\n",
    "import matplotlib.pyplot as plt\n",
    "import seaborn as sns\n",
    "\n",
    "import pickle\n",
    "import requests\n",
    "from datetime import datetime, timedelta\n",
    "\n",
    "import pymysql\n",
    "\n",
    "from sklearn.metrics import mean_squared_error\n",
    "\n",
    "# email\n",
    "import smtplib\n",
    "import ssl\n",
    "from email.mime.text import MIMEText\n",
    "from email.mime.image import MIMEImage\n",
    "from email.mime.multipart import MIMEMultipart"
   ]
  },
  {
   "cell_type": "markdown",
   "metadata": {},
   "source": [
    "## Hyperparameter"
   ]
  },
  {
   "cell_type": "code",
   "execution_count": 32,
   "metadata": {},
   "outputs": [
    {
     "name": "stdout",
     "output_type": "stream",
     "text": [
      "2020-07-18\n"
     ]
    }
   ],
   "source": [
    "# mysql\n",
    "HOST = 'ENDPOINT'\n",
    "USER = 'USER'\n",
    "PASSWORD = 'PASSWORD'\n",
    "PORT = 3306\n",
    "DB = 'DB'\n",
    "DATE = (datetime.now() - timedelta(days = 7)).strftime('%Y-%m-%d')\n",
    "print(DATE)\n",
    "\n",
    "# eia\n",
    "URL_EIA_01 = 'http://api.eia.gov/series/?api_key='\n",
    "URL_EIA_02 = '&series_id='\n",
    "API_KEY = 'API_KEY'\n",
    "SERIES_ID = 'EBA.PSCO-ALL.D.H'\n",
    "NAME = 'load'\n",
    "\n",
    "# analysis\n",
    "PATH_SAVEFIG_01 = '/home/ubuntu/github/airflow-automation/01_notebooks/psco_monitoring_01.png'\n",
    "PATH_SAVEFIG_02 = '/home/ubuntu/github/airflow-automation/01_notebooks/psco_monitoring_02.png'\n",
    "PATH_EVALUATION = '/home/ubuntu/github/airflow-automation/01_notebooks/psco_evaluation.pkl'\n",
    "\n",
    "# email\n",
    "PORT_EMAIL = 465\n",
    "PASSWORD_EMAIL = 'EMAIL_PASSWORD'\n",
    "SENDER_EMAIL = 'EMAIL_ADDRESS'\n",
    "RECEIVER_EMAIL = 'EMAIL_ADDRESS'\n",
    "\n",
    "plt.style.use('default')"
   ]
  },
  {
   "cell_type": "markdown",
   "metadata": {},
   "source": [
    "## Function"
   ]
  },
  {
   "cell_type": "code",
   "execution_count": 33,
   "metadata": {},
   "outputs": [],
   "source": [
    "def mean_absolute_percentage_error(y_true, y_pred): \n",
    "    y_true, y_pred = np.array(y_true), np.array(y_pred)\n",
    "    return np.mean(np.abs((y_true - y_pred) / y_true))"
   ]
  },
  {
   "cell_type": "markdown",
   "metadata": {},
   "source": [
    "## Forecast load"
   ]
  },
  {
   "cell_type": "code",
   "execution_count": 34,
   "metadata": {},
   "outputs": [
    {
     "name": "stdout",
     "output_type": "stream",
     "text": [
      "(222, 9)\n",
      "(142, 9)\n"
     ]
    }
   ],
   "source": [
    "# connection\n",
    "connection = pymysql.connect(host=HOST, user=USER, password=PASSWORD, port=PORT, db=DB)\n",
    "\n",
    "# query\n",
    "query = \"\"\"\n",
    "SELECT\n",
    "  *\n",
    "FROM\n",
    "  jupyterdb.psco_load_forecast\n",
    "WHERE\n",
    "  validity_index >= '{}'\n",
    "\"\"\".format(DATE)\n",
    "\n",
    "df = pd.read_sql(query, con = connection)\n",
    "\n",
    "# drop duplicate\n",
    "df = df.sort_values(by = ['created_at', 'validity_index'], ascending = [False, False])\n",
    "print(df.shape)\n",
    "df = df.drop_duplicates(subset = 'validity_index', keep = 'first')\n",
    "print(df.shape)\n",
    "df = df.set_index('validity_index').sort_index()\n",
    "\n",
    "df_f = df.copy()"
   ]
  },
  {
   "cell_type": "code",
   "execution_count": 35,
   "metadata": {},
   "outputs": [
    {
     "data": {
      "text/html": [
       "<div>\n",
       "<style scoped>\n",
       "    .dataframe tbody tr th:only-of-type {\n",
       "        vertical-align: middle;\n",
       "    }\n",
       "\n",
       "    .dataframe tbody tr th {\n",
       "        vertical-align: top;\n",
       "    }\n",
       "\n",
       "    .dataframe thead th {\n",
       "        text-align: right;\n",
       "    }\n",
       "</style>\n",
       "<table border=\"1\" class=\"dataframe\">\n",
       "  <thead>\n",
       "    <tr style=\"text-align: right;\">\n",
       "      <th></th>\n",
       "      <th>temp_f</th>\n",
       "      <th>year</th>\n",
       "      <th>month</th>\n",
       "      <th>day</th>\n",
       "      <th>hour</th>\n",
       "      <th>dow</th>\n",
       "      <th>forecast_load</th>\n",
       "      <th>created_at</th>\n",
       "    </tr>\n",
       "    <tr>\n",
       "      <th>validity_index</th>\n",
       "      <th></th>\n",
       "      <th></th>\n",
       "      <th></th>\n",
       "      <th></th>\n",
       "      <th></th>\n",
       "      <th></th>\n",
       "      <th></th>\n",
       "      <th></th>\n",
       "    </tr>\n",
       "  </thead>\n",
       "  <tbody>\n",
       "    <tr>\n",
       "      <th>2020-07-21 21:00:00</th>\n",
       "      <td>70.911567</td>\n",
       "      <td>2020</td>\n",
       "      <td>7</td>\n",
       "      <td>21</td>\n",
       "      <td>21</td>\n",
       "      <td>1</td>\n",
       "      <td>6955.477539</td>\n",
       "      <td>2020-07-22 03:13:15</td>\n",
       "    </tr>\n",
       "    <tr>\n",
       "      <th>2020-07-21 22:00:00</th>\n",
       "      <td>68.853641</td>\n",
       "      <td>2020</td>\n",
       "      <td>7</td>\n",
       "      <td>21</td>\n",
       "      <td>22</td>\n",
       "      <td>1</td>\n",
       "      <td>6940.402344</td>\n",
       "      <td>2020-07-22 03:13:15</td>\n",
       "    </tr>\n",
       "  </tbody>\n",
       "</table>\n",
       "</div>"
      ],
      "text/plain": [
       "                        temp_f  year  month  day  hour  dow  forecast_load  \\\n",
       "validity_index                                                               \n",
       "2020-07-21 21:00:00  70.911567  2020      7   21    21    1    6955.477539   \n",
       "2020-07-21 22:00:00  68.853641  2020      7   21    22    1    6940.402344   \n",
       "\n",
       "                             created_at  \n",
       "validity_index                           \n",
       "2020-07-21 21:00:00 2020-07-22 03:13:15  \n",
       "2020-07-21 22:00:00 2020-07-22 03:13:15  "
      ]
     },
     "execution_count": 35,
     "metadata": {},
     "output_type": "execute_result"
    }
   ],
   "source": [
    "df_f.head(2)"
   ]
  },
  {
   "cell_type": "code",
   "execution_count": 36,
   "metadata": {},
   "outputs": [
    {
     "data": {
      "text/html": [
       "<div>\n",
       "<style scoped>\n",
       "    .dataframe tbody tr th:only-of-type {\n",
       "        vertical-align: middle;\n",
       "    }\n",
       "\n",
       "    .dataframe tbody tr th {\n",
       "        vertical-align: top;\n",
       "    }\n",
       "\n",
       "    .dataframe thead th {\n",
       "        text-align: right;\n",
       "    }\n",
       "</style>\n",
       "<table border=\"1\" class=\"dataframe\">\n",
       "  <thead>\n",
       "    <tr style=\"text-align: right;\">\n",
       "      <th></th>\n",
       "      <th>temp_f</th>\n",
       "      <th>year</th>\n",
       "      <th>month</th>\n",
       "      <th>day</th>\n",
       "      <th>hour</th>\n",
       "      <th>dow</th>\n",
       "      <th>forecast_load</th>\n",
       "      <th>created_at</th>\n",
       "    </tr>\n",
       "    <tr>\n",
       "      <th>validity_index</th>\n",
       "      <th></th>\n",
       "      <th></th>\n",
       "      <th></th>\n",
       "      <th></th>\n",
       "      <th></th>\n",
       "      <th></th>\n",
       "      <th></th>\n",
       "      <th></th>\n",
       "    </tr>\n",
       "  </thead>\n",
       "  <tbody>\n",
       "    <tr>\n",
       "      <th>2020-07-27 17:00:00</th>\n",
       "      <td>89.511769</td>\n",
       "      <td>2020</td>\n",
       "      <td>7</td>\n",
       "      <td>27</td>\n",
       "      <td>17</td>\n",
       "      <td>0</td>\n",
       "      <td>7794.742188</td>\n",
       "      <td>2020-07-24 20:15:22</td>\n",
       "    </tr>\n",
       "    <tr>\n",
       "      <th>2020-07-27 18:00:00</th>\n",
       "      <td>90.083815</td>\n",
       "      <td>2020</td>\n",
       "      <td>7</td>\n",
       "      <td>27</td>\n",
       "      <td>18</td>\n",
       "      <td>0</td>\n",
       "      <td>8012.375000</td>\n",
       "      <td>2020-07-24 20:15:22</td>\n",
       "    </tr>\n",
       "  </tbody>\n",
       "</table>\n",
       "</div>"
      ],
      "text/plain": [
       "                        temp_f  year  month  day  hour  dow  forecast_load  \\\n",
       "validity_index                                                               \n",
       "2020-07-27 17:00:00  89.511769  2020      7   27    17    0    7794.742188   \n",
       "2020-07-27 18:00:00  90.083815  2020      7   27    18    0    8012.375000   \n",
       "\n",
       "                             created_at  \n",
       "validity_index                           \n",
       "2020-07-27 17:00:00 2020-07-24 20:15:22  \n",
       "2020-07-27 18:00:00 2020-07-24 20:15:22  "
      ]
     },
     "execution_count": 36,
     "metadata": {},
     "output_type": "execute_result"
    }
   ],
   "source": [
    "df_f.tail(2)"
   ]
  },
  {
   "cell_type": "markdown",
   "metadata": {},
   "source": [
    "## Actual load"
   ]
  },
  {
   "cell_type": "code",
   "execution_count": 37,
   "metadata": {},
   "outputs": [
    {
     "name": "stdout",
     "output_type": "stream",
     "text": [
      "http://api.eia.gov/series/?api_key=1f251657d4404b4115a5d852206cceb1&series_id=EBA.PSCO-ALL.D.H\n",
      "status_code 200\n"
     ]
    }
   ],
   "source": [
    "url = URL_EIA_01 + API_KEY + URL_EIA_02 + SERIES_ID\n",
    "print(url)\n",
    "\n",
    "response = requests.get(url)\n",
    "print('status_code', response.status_code)\n",
    "\n",
    "data = response.json()['series'][0]['data']\n",
    "df = pd.DataFrame(data, columns = ['period', 'value'])\n",
    "df.index = pd.to_datetime(df['period'])\n",
    "df = df.sort_index()\n",
    "\n",
    "df_utc = df.copy()\n",
    "\n",
    "df = df.tz_convert('America/Denver')\n",
    "df = df.tz_localize(None)\n",
    "df = df.loc[~df.index.duplicated(keep = 'first')]\n",
    "df = df.rename(columns = {'value': NAME})\n",
    "df = df.drop('period', axis = 1)\n",
    "df = df.sort_index()\n",
    "\n",
    "df_load = df.copy()"
   ]
  },
  {
   "cell_type": "code",
   "execution_count": 38,
   "metadata": {},
   "outputs": [
    {
     "data": {
      "text/html": [
       "<div>\n",
       "<style scoped>\n",
       "    .dataframe tbody tr th:only-of-type {\n",
       "        vertical-align: middle;\n",
       "    }\n",
       "\n",
       "    .dataframe tbody tr th {\n",
       "        vertical-align: top;\n",
       "    }\n",
       "\n",
       "    .dataframe thead th {\n",
       "        text-align: right;\n",
       "    }\n",
       "</style>\n",
       "<table border=\"1\" class=\"dataframe\">\n",
       "  <thead>\n",
       "    <tr style=\"text-align: right;\">\n",
       "      <th></th>\n",
       "      <th>load</th>\n",
       "    </tr>\n",
       "    <tr>\n",
       "      <th>period</th>\n",
       "      <th></th>\n",
       "    </tr>\n",
       "  </thead>\n",
       "  <tbody>\n",
       "    <tr>\n",
       "      <th>2015-07-01 01:00:00</th>\n",
       "      <td>4875.0</td>\n",
       "    </tr>\n",
       "    <tr>\n",
       "      <th>2015-07-01 02:00:00</th>\n",
       "      <td>4618.0</td>\n",
       "    </tr>\n",
       "  </tbody>\n",
       "</table>\n",
       "</div>"
      ],
      "text/plain": [
       "                       load\n",
       "period                     \n",
       "2015-07-01 01:00:00  4875.0\n",
       "2015-07-01 02:00:00  4618.0"
      ]
     },
     "execution_count": 38,
     "metadata": {},
     "output_type": "execute_result"
    }
   ],
   "source": [
    "df_load.head(2)"
   ]
  },
  {
   "cell_type": "code",
   "execution_count": 39,
   "metadata": {},
   "outputs": [
    {
     "data": {
      "text/html": [
       "<div>\n",
       "<style scoped>\n",
       "    .dataframe tbody tr th:only-of-type {\n",
       "        vertical-align: middle;\n",
       "    }\n",
       "\n",
       "    .dataframe tbody tr th {\n",
       "        vertical-align: top;\n",
       "    }\n",
       "\n",
       "    .dataframe thead th {\n",
       "        text-align: right;\n",
       "    }\n",
       "</style>\n",
       "<table border=\"1\" class=\"dataframe\">\n",
       "  <thead>\n",
       "    <tr style=\"text-align: right;\">\n",
       "      <th></th>\n",
       "      <th>load</th>\n",
       "    </tr>\n",
       "    <tr>\n",
       "      <th>period</th>\n",
       "      <th></th>\n",
       "    </tr>\n",
       "  </thead>\n",
       "  <tbody>\n",
       "    <tr>\n",
       "      <th>2020-07-24 19:00:00</th>\n",
       "      <td>7365.0</td>\n",
       "    </tr>\n",
       "    <tr>\n",
       "      <th>2020-07-24 20:00:00</th>\n",
       "      <td>7110.0</td>\n",
       "    </tr>\n",
       "  </tbody>\n",
       "</table>\n",
       "</div>"
      ],
      "text/plain": [
       "                       load\n",
       "period                     \n",
       "2020-07-24 19:00:00  7365.0\n",
       "2020-07-24 20:00:00  7110.0"
      ]
     },
     "execution_count": 39,
     "metadata": {},
     "output_type": "execute_result"
    }
   ],
   "source": [
    "df_load.tail(2)"
   ]
  },
  {
   "cell_type": "markdown",
   "metadata": {},
   "source": [
    "## Performance data"
   ]
  },
  {
   "cell_type": "code",
   "execution_count": 40,
   "metadata": {},
   "outputs": [],
   "source": [
    "df_per = df_f.copy()\n",
    "df_per['actual_load'] = df_load['load']\n",
    "df_per['error'] = df_per['actual_load'] - df_per['forecast_load']\n",
    "df_per['percent_error'] = (df_per['actual_load'] - df_per['forecast_load']) / df_per['actual_load']\n",
    "df_per['abs_percent_error'] = np.abs(df_per['percent_error'])\n",
    "df_per = df_per.dropna()"
   ]
  },
  {
   "cell_type": "code",
   "execution_count": 41,
   "metadata": {},
   "outputs": [
    {
     "data": {
      "text/html": [
       "<div>\n",
       "<style scoped>\n",
       "    .dataframe tbody tr th:only-of-type {\n",
       "        vertical-align: middle;\n",
       "    }\n",
       "\n",
       "    .dataframe tbody tr th {\n",
       "        vertical-align: top;\n",
       "    }\n",
       "\n",
       "    .dataframe thead th {\n",
       "        text-align: right;\n",
       "    }\n",
       "</style>\n",
       "<table border=\"1\" class=\"dataframe\">\n",
       "  <thead>\n",
       "    <tr style=\"text-align: right;\">\n",
       "      <th></th>\n",
       "      <th>temp_f</th>\n",
       "      <th>year</th>\n",
       "      <th>month</th>\n",
       "      <th>day</th>\n",
       "      <th>hour</th>\n",
       "      <th>dow</th>\n",
       "      <th>forecast_load</th>\n",
       "      <th>created_at</th>\n",
       "      <th>actual_load</th>\n",
       "      <th>error</th>\n",
       "      <th>percent_error</th>\n",
       "      <th>abs_percent_error</th>\n",
       "    </tr>\n",
       "    <tr>\n",
       "      <th>validity_index</th>\n",
       "      <th></th>\n",
       "      <th></th>\n",
       "      <th></th>\n",
       "      <th></th>\n",
       "      <th></th>\n",
       "      <th></th>\n",
       "      <th></th>\n",
       "      <th></th>\n",
       "      <th></th>\n",
       "      <th></th>\n",
       "      <th></th>\n",
       "      <th></th>\n",
       "    </tr>\n",
       "  </thead>\n",
       "  <tbody>\n",
       "    <tr>\n",
       "      <th>2020-07-21 21:00:00</th>\n",
       "      <td>70.911567</td>\n",
       "      <td>2020</td>\n",
       "      <td>7</td>\n",
       "      <td>21</td>\n",
       "      <td>21</td>\n",
       "      <td>1</td>\n",
       "      <td>6955.477539</td>\n",
       "      <td>2020-07-22 03:13:15</td>\n",
       "      <td>7395.0</td>\n",
       "      <td>439.522461</td>\n",
       "      <td>0.059435</td>\n",
       "      <td>0.059435</td>\n",
       "    </tr>\n",
       "    <tr>\n",
       "      <th>2020-07-21 22:00:00</th>\n",
       "      <td>68.853641</td>\n",
       "      <td>2020</td>\n",
       "      <td>7</td>\n",
       "      <td>21</td>\n",
       "      <td>22</td>\n",
       "      <td>1</td>\n",
       "      <td>6940.402344</td>\n",
       "      <td>2020-07-22 03:13:15</td>\n",
       "      <td>7073.0</td>\n",
       "      <td>132.597656</td>\n",
       "      <td>0.018747</td>\n",
       "      <td>0.018747</td>\n",
       "    </tr>\n",
       "    <tr>\n",
       "      <th>2020-07-21 23:00:00</th>\n",
       "      <td>66.208548</td>\n",
       "      <td>2020</td>\n",
       "      <td>7</td>\n",
       "      <td>21</td>\n",
       "      <td>23</td>\n",
       "      <td>1</td>\n",
       "      <td>6540.458496</td>\n",
       "      <td>2020-07-22 03:13:15</td>\n",
       "      <td>6456.0</td>\n",
       "      <td>-84.458496</td>\n",
       "      <td>-0.013082</td>\n",
       "      <td>0.013082</td>\n",
       "    </tr>\n",
       "    <tr>\n",
       "      <th>2020-07-22 00:00:00</th>\n",
       "      <td>64.560992</td>\n",
       "      <td>2020</td>\n",
       "      <td>7</td>\n",
       "      <td>22</td>\n",
       "      <td>0</td>\n",
       "      <td>2</td>\n",
       "      <td>5243.111328</td>\n",
       "      <td>2020-07-22 03:13:15</td>\n",
       "      <td>5826.0</td>\n",
       "      <td>582.888672</td>\n",
       "      <td>0.100050</td>\n",
       "      <td>0.100050</td>\n",
       "    </tr>\n",
       "    <tr>\n",
       "      <th>2020-07-22 01:00:00</th>\n",
       "      <td>58.096721</td>\n",
       "      <td>2020</td>\n",
       "      <td>7</td>\n",
       "      <td>22</td>\n",
       "      <td>1</td>\n",
       "      <td>2</td>\n",
       "      <td>4840.948730</td>\n",
       "      <td>2020-07-22 03:13:15</td>\n",
       "      <td>5386.0</td>\n",
       "      <td>545.051270</td>\n",
       "      <td>0.101198</td>\n",
       "      <td>0.101198</td>\n",
       "    </tr>\n",
       "  </tbody>\n",
       "</table>\n",
       "</div>"
      ],
      "text/plain": [
       "                        temp_f  year  month  day  hour  dow  forecast_load  \\\n",
       "validity_index                                                               \n",
       "2020-07-21 21:00:00  70.911567  2020      7   21    21    1    6955.477539   \n",
       "2020-07-21 22:00:00  68.853641  2020      7   21    22    1    6940.402344   \n",
       "2020-07-21 23:00:00  66.208548  2020      7   21    23    1    6540.458496   \n",
       "2020-07-22 00:00:00  64.560992  2020      7   22     0    2    5243.111328   \n",
       "2020-07-22 01:00:00  58.096721  2020      7   22     1    2    4840.948730   \n",
       "\n",
       "                             created_at  actual_load       error  \\\n",
       "validity_index                                                     \n",
       "2020-07-21 21:00:00 2020-07-22 03:13:15       7395.0  439.522461   \n",
       "2020-07-21 22:00:00 2020-07-22 03:13:15       7073.0  132.597656   \n",
       "2020-07-21 23:00:00 2020-07-22 03:13:15       6456.0  -84.458496   \n",
       "2020-07-22 00:00:00 2020-07-22 03:13:15       5826.0  582.888672   \n",
       "2020-07-22 01:00:00 2020-07-22 03:13:15       5386.0  545.051270   \n",
       "\n",
       "                     percent_error  abs_percent_error  \n",
       "validity_index                                         \n",
       "2020-07-21 21:00:00       0.059435           0.059435  \n",
       "2020-07-21 22:00:00       0.018747           0.018747  \n",
       "2020-07-21 23:00:00      -0.013082           0.013082  \n",
       "2020-07-22 00:00:00       0.100050           0.100050  \n",
       "2020-07-22 01:00:00       0.101198           0.101198  "
      ]
     },
     "execution_count": 41,
     "metadata": {},
     "output_type": "execute_result"
    }
   ],
   "source": [
    "df_per.head()"
   ]
  },
  {
   "cell_type": "code",
   "execution_count": 42,
   "metadata": {},
   "outputs": [
    {
     "data": {
      "text/html": [
       "<div>\n",
       "<style scoped>\n",
       "    .dataframe tbody tr th:only-of-type {\n",
       "        vertical-align: middle;\n",
       "    }\n",
       "\n",
       "    .dataframe tbody tr th {\n",
       "        vertical-align: top;\n",
       "    }\n",
       "\n",
       "    .dataframe thead th {\n",
       "        text-align: right;\n",
       "    }\n",
       "</style>\n",
       "<table border=\"1\" class=\"dataframe\">\n",
       "  <thead>\n",
       "    <tr style=\"text-align: right;\">\n",
       "      <th></th>\n",
       "      <th>temp_f</th>\n",
       "      <th>year</th>\n",
       "      <th>month</th>\n",
       "      <th>day</th>\n",
       "      <th>hour</th>\n",
       "      <th>dow</th>\n",
       "      <th>forecast_load</th>\n",
       "      <th>created_at</th>\n",
       "      <th>actual_load</th>\n",
       "      <th>error</th>\n",
       "      <th>percent_error</th>\n",
       "      <th>abs_percent_error</th>\n",
       "    </tr>\n",
       "    <tr>\n",
       "      <th>validity_index</th>\n",
       "      <th></th>\n",
       "      <th></th>\n",
       "      <th></th>\n",
       "      <th></th>\n",
       "      <th></th>\n",
       "      <th></th>\n",
       "      <th></th>\n",
       "      <th></th>\n",
       "      <th></th>\n",
       "      <th></th>\n",
       "      <th></th>\n",
       "      <th></th>\n",
       "    </tr>\n",
       "  </thead>\n",
       "  <tbody>\n",
       "    <tr>\n",
       "      <th>2020-07-24 16:00:00</th>\n",
       "      <td>70.412667</td>\n",
       "      <td>2020</td>\n",
       "      <td>7</td>\n",
       "      <td>24</td>\n",
       "      <td>16</td>\n",
       "      <td>4</td>\n",
       "      <td>6166.557617</td>\n",
       "      <td>2020-07-24 20:15:22</td>\n",
       "      <td>8073.0</td>\n",
       "      <td>1906.442383</td>\n",
       "      <td>0.236150</td>\n",
       "      <td>0.236150</td>\n",
       "    </tr>\n",
       "    <tr>\n",
       "      <th>2020-07-24 17:00:00</th>\n",
       "      <td>62.388814</td>\n",
       "      <td>2020</td>\n",
       "      <td>7</td>\n",
       "      <td>24</td>\n",
       "      <td>17</td>\n",
       "      <td>4</td>\n",
       "      <td>5928.191895</td>\n",
       "      <td>2020-07-24 20:15:22</td>\n",
       "      <td>7847.0</td>\n",
       "      <td>1918.808105</td>\n",
       "      <td>0.244528</td>\n",
       "      <td>0.244528</td>\n",
       "    </tr>\n",
       "    <tr>\n",
       "      <th>2020-07-24 18:00:00</th>\n",
       "      <td>64.440848</td>\n",
       "      <td>2020</td>\n",
       "      <td>7</td>\n",
       "      <td>24</td>\n",
       "      <td>18</td>\n",
       "      <td>4</td>\n",
       "      <td>5981.309082</td>\n",
       "      <td>2020-07-24 20:15:22</td>\n",
       "      <td>7604.0</td>\n",
       "      <td>1622.690918</td>\n",
       "      <td>0.213400</td>\n",
       "      <td>0.213400</td>\n",
       "    </tr>\n",
       "    <tr>\n",
       "      <th>2020-07-24 19:00:00</th>\n",
       "      <td>65.487751</td>\n",
       "      <td>2020</td>\n",
       "      <td>7</td>\n",
       "      <td>24</td>\n",
       "      <td>19</td>\n",
       "      <td>4</td>\n",
       "      <td>6095.524414</td>\n",
       "      <td>2020-07-24 20:15:22</td>\n",
       "      <td>7365.0</td>\n",
       "      <td>1269.475586</td>\n",
       "      <td>0.172366</td>\n",
       "      <td>0.172366</td>\n",
       "    </tr>\n",
       "    <tr>\n",
       "      <th>2020-07-24 20:00:00</th>\n",
       "      <td>66.779615</td>\n",
       "      <td>2020</td>\n",
       "      <td>7</td>\n",
       "      <td>24</td>\n",
       "      <td>20</td>\n",
       "      <td>4</td>\n",
       "      <td>6294.172852</td>\n",
       "      <td>2020-07-24 20:15:22</td>\n",
       "      <td>7110.0</td>\n",
       "      <td>815.827148</td>\n",
       "      <td>0.114744</td>\n",
       "      <td>0.114744</td>\n",
       "    </tr>\n",
       "  </tbody>\n",
       "</table>\n",
       "</div>"
      ],
      "text/plain": [
       "                        temp_f  year  month  day  hour  dow  forecast_load  \\\n",
       "validity_index                                                               \n",
       "2020-07-24 16:00:00  70.412667  2020      7   24    16    4    6166.557617   \n",
       "2020-07-24 17:00:00  62.388814  2020      7   24    17    4    5928.191895   \n",
       "2020-07-24 18:00:00  64.440848  2020      7   24    18    4    5981.309082   \n",
       "2020-07-24 19:00:00  65.487751  2020      7   24    19    4    6095.524414   \n",
       "2020-07-24 20:00:00  66.779615  2020      7   24    20    4    6294.172852   \n",
       "\n",
       "                             created_at  actual_load        error  \\\n",
       "validity_index                                                      \n",
       "2020-07-24 16:00:00 2020-07-24 20:15:22       8073.0  1906.442383   \n",
       "2020-07-24 17:00:00 2020-07-24 20:15:22       7847.0  1918.808105   \n",
       "2020-07-24 18:00:00 2020-07-24 20:15:22       7604.0  1622.690918   \n",
       "2020-07-24 19:00:00 2020-07-24 20:15:22       7365.0  1269.475586   \n",
       "2020-07-24 20:00:00 2020-07-24 20:15:22       7110.0   815.827148   \n",
       "\n",
       "                     percent_error  abs_percent_error  \n",
       "validity_index                                         \n",
       "2020-07-24 16:00:00       0.236150           0.236150  \n",
       "2020-07-24 17:00:00       0.244528           0.244528  \n",
       "2020-07-24 18:00:00       0.213400           0.213400  \n",
       "2020-07-24 19:00:00       0.172366           0.172366  \n",
       "2020-07-24 20:00:00       0.114744           0.114744  "
      ]
     },
     "execution_count": 42,
     "metadata": {},
     "output_type": "execute_result"
    }
   ],
   "source": [
    "df_per.tail()"
   ]
  },
  {
   "cell_type": "markdown",
   "metadata": {},
   "source": [
    "## Visualize"
   ]
  },
  {
   "cell_type": "code",
   "execution_count": 43,
   "metadata": {},
   "outputs": [
    {
     "data": {
      "image/png": "[encoded data removed]",
      "text/plain": [
       "<Figure size 640x480 with 1 Axes>"
      ]
     },
     "metadata": {},
     "output_type": "display_data"
    }
   ],
   "source": [
    "plt.plot(df_per['actual_load'], label = 'Actual load')\n",
    "plt.plot(df_per['forecast_load'], linestyle = '--', label = 'Forecast load')\n",
    "plt.title('PSCO forecast load and actual load')\n",
    "plt.xlabel('Date')\n",
    "plt.ylabel('MW')\n",
    "plt.xticks(rotation = 45)\n",
    "plt.legend()\n",
    "plt.tight_layout()\n",
    "plt.savefig(PATH_SAVEFIG_01)\n",
    "plt.show()"
   ]
  },
  {
   "cell_type": "markdown",
   "metadata": {},
   "source": [
    "## Evaluation"
   ]
  },
  {
   "cell_type": "code",
   "execution_count": 44,
   "metadata": {},
   "outputs": [
    {
     "name": "stdout",
     "output_type": "stream",
     "text": [
      "MAPE: 6.2%\n",
      "RMSE: 565.4MW\n"
     ]
    }
   ],
   "source": [
    "mape = mean_absolute_percentage_error(df_per['actual_load'], df_per['forecast_load'])\n",
    "rmse = np.sqrt(mean_squared_error(df_per['actual_load'], df_per['forecast_load']))\n",
    "\n",
    "print('MAPE: {:,.1%}'.format(mape))\n",
    "print('RMSE: {:,.1f}MW'.format(rmse))"
   ]
  },
  {
   "cell_type": "markdown",
   "metadata": {},
   "source": [
    "## Save evaluation"
   ]
  },
  {
   "cell_type": "code",
   "execution_count": 45,
   "metadata": {},
   "outputs": [],
   "source": [
    "# print(type(mape), type(rmse))\n",
    "evaluation = [mape, rmse]\n",
    "pickle.dump(evaluation, open(PATH_EVALUATION, 'wb'))"
   ]
  },
  {
   "cell_type": "markdown",
   "metadata": {},
   "source": [
    "## Hourly forecast error"
   ]
  },
  {
   "cell_type": "code",
   "execution_count": 46,
   "metadata": {},
   "outputs": [
    {
     "data": {
      "image/png": "[encoded data removed]",
      "text/plain": [
       "<Figure size 640x480 with 1 Axes>"
      ]
     },
     "metadata": {},
     "output_type": "display_data"
    }
   ],
   "source": [
    "sns.boxplot(df_per.index.hour, df_per['percent_error'])\n",
    "plt.axhline(y = 0.05, linestyle = '--', color = '#d62728', label = 'Accurate forecast')\n",
    "plt.axhline(y = -0.05, linestyle = '--', color = '#d62728')\n",
    "plt.title('Hourly percent error')\n",
    "plt.xlabel('Hour')\n",
    "plt.ylabel('Percent error')\n",
    "plt.legend()\n",
    "plt.tight_layout()\n",
    "plt.savefig(PATH_SAVEFIG_02)\n",
    "plt.show()"
   ]
  },
  {
   "cell_type": "markdown",
   "metadata": {},
   "source": [
    "## Email subject"
   ]
  },
  {
   "cell_type": "code",
   "execution_count": 47,
   "metadata": {},
   "outputs": [
    {
     "name": "stdout",
     "output_type": "stream",
     "text": [
      "Jul21-Jul24 PSCO short term load forecast monitoring\n"
     ]
    }
   ],
   "source": [
    "subject = df_per.index[0].strftime('%b%d') + '-' + \\\n",
    "          df_per.index[-1].strftime('%b%d') + \\\n",
    "          ' PSCO short term load forecast monitoring'\n",
    "\n",
    "print(subject)"
   ]
  },
  {
   "cell_type": "markdown",
   "metadata": {},
   "source": [
    "## Email contents"
   ]
  },
  {
   "cell_type": "code",
   "execution_count": 48,
   "metadata": {},
   "outputs": [
    {
     "name": "stdout",
     "output_type": "stream",
     "text": [
      "\n",
      "<html>\n",
      "  <p>MAPE: 6.2%, RMSE: 565.4MW</p>\n",
      "  <img src=\"cid:/home/ubuntu/psco/psco_monitoring_01.png\">\n",
      "  <img src=\"cid:/home/ubuntu/psco/psco_monitoring_02.png\">\n",
      "  <p>Sincerely,</p>\n",
      "  <p>Yuki</p>\n",
      "</html>\n",
      "\n"
     ]
    }
   ],
   "source": [
    "html = \"\"\"\n",
    "<html>\n",
    "  <p>MAPE: {:,.1%}, RMSE: {:,.1f}MW</p>\n",
    "  <img src=\"cid:{}\">\n",
    "  <img src=\"cid:{}\">\n",
    "  <p>Sincerely,</p>\n",
    "  <p>Yuki</p>\n",
    "</html>\n",
    "\"\"\".format(mape, rmse,\n",
    "           PATH_SAVEFIG_01,\n",
    "           PATH_SAVEFIG_02)\n",
    "\n",
    "print(html)"
   ]
  },
  {
   "cell_type": "markdown",
   "metadata": {},
   "source": [
    "## Send email"
   ]
  },
  {
   "cell_type": "code",
   "execution_count": 49,
   "metadata": {},
   "outputs": [],
   "source": [
    "# make message\n",
    "msg = MIMEMultipart()\n",
    "msg['Subject'] = subject\n",
    "msg['From'] = SENDER_EMAIL\n",
    "msg['To'] = RECEIVER_EMAIL\n",
    "\n",
    "# content\n",
    "msgText = MIMEText(html, 'html')\n",
    "msg.attach(msgText)\n",
    "\n",
    "# images\n",
    "f = open(PATH_SAVEFIG_01, 'rb')\n",
    "msgImage = MIMEImage(f.read())\n",
    "f.close()\n",
    "msgImage.add_header('Content-ID', '<{}>'.format(PATH_SAVEFIG_01))\n",
    "msg.attach(msgImage)\n",
    "f = open(PATH_SAVEFIG_02, 'rb')\n",
    "msgImage = MIMEImage(f.read())\n",
    "f.close()\n",
    "msgImage.add_header('Content-ID', '<{}>'.format(PATH_SAVEFIG_02))\n",
    "msg.attach(msgImage)\n",
    "\n",
    "# send email\n",
    "context = ssl.create_default_context()\n",
    "with smtplib.SMTP_SSL('smtp.gmail.com', PORT_EMAIL, context = context) as server:\n",
    "    server.login(SENDER_EMAIL, PASSWORD_EMAIL)\n",
    "    server.sendmail(SENDER_EMAIL, RECEIVER_EMAIL, msg.as_string())"
   ]
  },
  {
   "cell_type": "markdown",
   "metadata": {},
   "source": [
    "## Automation timestamp"
   ]
  },
  {
   "cell_type": "code",
   "execution_count": 50,
   "metadata": {},
   "outputs": [
    {
     "name": "stdout",
     "output_type": "stream",
     "text": [
      "2020-07-25 03:11:24.161915\n"
     ]
    }
   ],
   "source": [
    "print(datetime.now())"
   ]
  }
 ],
 "metadata": {
  "kernelspec": {
   "display_name": "Python 3",
   "language": "python",
   "name": "python3"
  },
  "language_info": {
   "codemirror_mode": {
    "name": "ipython",
    "version": 3
   },
   "file_extension": ".py",
   "mimetype": "text/x-python",
   "name": "python",
   "nbconvert_exporter": "python",
   "pygments_lexer": "ipython3",
   "version": "3.6.9"
  }
 },
 "nbformat": 4,
 "nbformat_minor": 4
}
