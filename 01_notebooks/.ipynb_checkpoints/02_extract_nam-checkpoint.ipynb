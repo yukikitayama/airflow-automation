{
 "cells": [
  {
   "cell_type": "markdown",
   "metadata": {},
   "source": [
    "# Get North American Mesoscale (NAM) temperature forecast"
   ]
  },
  {
   "cell_type": "markdown",
   "metadata": {},
   "source": [
    "## Setup"
   ]
  },
  {
   "cell_type": "code",
   "execution_count": 1,
   "metadata": {},
   "outputs": [
    {
     "name": "stdout",
     "output_type": "stream",
     "text": [
      "Warning: ecCodes 2.18.0 or higher is recommended. You are running version 2.6.0\n"
     ]
    }
   ],
   "source": [
    "import pandas as pd\n",
    "import requests\n",
    "import re\n",
    "from datetime import datetime, timedelta\n",
    "import time\n",
    "import os\n",
    "import pickle\n",
    "\n",
    "from eccodes import *\n",
    "\n",
    "import pymysql\n",
    "# import boto3"
   ]
  },
  {
   "cell_type": "markdown",
   "metadata": {},
   "source": [
    "## Hyperparameter"
   ]
  },
  {
   "cell_type": "code",
   "execution_count": 41,
   "metadata": {},
   "outputs": [
    {
     "name": "stdout",
     "output_type": "stream",
     "text": [
      "20200720\n",
      "https://nomads.ncep.noaa.gov/pub/data/nccf/com/nam/prod/nam.20200720/\n"
     ]
    }
   ],
   "source": [
    "# denver international airport\n",
    "LAT = 39.83\n",
    "LON = -104.65\n",
    "\n",
    "# nam download, now() is utc\n",
    "# automation version\n",
    "DATE = datetime.now().strftime('%Y%m%d')\n",
    "# test version\n",
    "# DATE = (datetime.now() - timedelta(days = 1)).strftime('%Y%m%d')\n",
    "print(DATE)\n",
    "\n",
    "PATH_NAM = 'https://nomads.ncep.noaa.gov/pub/data/nccf/com/nam/prod/'\n",
    "PATH_DOWNLOAD = PATH_NAM + 'nam.' + DATE + '/'\n",
    "print(PATH_DOWNLOAD)\n",
    "\n",
    "PATTERN_FORECAST = 'nam\\.t[0-9]{2}z\\.awphys[0-9]{2}\\.tm00\\.grib2'\n",
    "PATH_TMP = '/home/ubuntu/github/airflow-automation/01_notebooks/tmp'\n",
    "\n",
    "MONITORING = 20\n",
    "COLUMNS = ['name', 'latitude', 'longitude', 'level', 'typeOfLevel', 'dataDate', 'dataTime', 'validityDate', 'validityTime', 'value', 'units']\n",
    "\n",
    "PATH_DF_01 = '/home/ubuntu/github/airflow-automation/01_notebooks/df_nam.pkl'\n",
    "\n",
    "# mysql\n",
    "HOST = 'ENDPOINT'\n",
    "USER = 'USER'\n",
    "PASSWORD = 'PASSWORD'\n",
    "PORT = 3306\n",
    "DB = 'DB'\n",
    "\n",
    "# boto3"
   ]
  },
  {
   "cell_type": "markdown",
   "metadata": {},
   "source": [
    "## Function"
   ]
  },
  {
   "cell_type": "code",
   "execution_count": 19,
   "metadata": {},
   "outputs": [],
   "source": [
    "def nearest_four_to_one(nearest_four):\n",
    "    dist_1 = nearest_four[0]['distance']\n",
    "    dist_2 = nearest_four[1]['distance']\n",
    "    dist_3 = nearest_four[2]['distance']\n",
    "    dist_4 = nearest_four[3]['distance']\n",
    "    val_1 = nearest_four[0]['value']\n",
    "    val_2 = nearest_four[1]['value']\n",
    "    val_3 = nearest_four[2]['value']\n",
    "    val_4 = nearest_four[3]['value']\n",
    "    one = (val_1 * 1 / dist_1 + val_2 * 1 / dist_2 + val_3 * 1 / dist_3 + val_4 * 1 / dist_4) / (1 / dist_1 + 1 / dist_2 + 1 / dist_3 + 1 / dist_4)\n",
    "    return one\n",
    "\n",
    "def get_temperature_from_grib(grib_file, lat, lon):\n",
    "    lon_eccodes = lon + 360\n",
    "    \n",
    "    codes_grib_multi_support_on()\n",
    "    \n",
    "    f = open(grib_file, 'rb')\n",
    "    \n",
    "    while 1:\n",
    "        gid = codes_grib_new_from_file(f)\n",
    "        \n",
    "        if gid is None:\n",
    "            break\n",
    "            \n",
    "        name = codes_get(gid, 'name')\n",
    "        level = codes_get(gid, 'level')\n",
    "        dataDate = codes_get(gid, 'dataDate')\n",
    "        dataTime = codes_get(gid, 'dataTime')\n",
    "        validityDate = codes_get(gid, 'validityDate')\n",
    "        validityTime = codes_get(gid, 'validityTime')\n",
    "        typeOfLevel = codes_get(gid, 'typeOfLevel')\n",
    "        units = codes_get(gid, 'units')\n",
    "        \n",
    "        if name == 'Temperature' and level == 0 and typeOfLevel == 'surface':\n",
    "            nearest_four = codes_grib_find_nearest(gid, lat, lon_eccodes, is_lsm = False, npoints = 4)\n",
    "            temp = nearest_four_to_one(nearest_four)\n",
    "            \n",
    "            return [name, lat, lon, level, typeOfLevel, dataDate, dataTime, validityDate, validityTime, temp, units]\n",
    "        \n",
    "        codes_release(gid)\n",
    "        \n",
    "    f.close()"
   ]
  },
  {
   "cell_type": "markdown",
   "metadata": {},
   "source": [
    "## Extract data"
   ]
  },
  {
   "cell_type": "code",
   "execution_count": 20,
   "metadata": {},
   "outputs": [
    {
     "name": "stdout",
     "output_type": "stream",
     "text": [
      "Number of grib files 212\n",
      "nam.t00z.awphys00.tm00.grib2 nam.t18z.awphys84.tm00.grib2\n",
      "Stored 0 results, 0.31 minutes passed\n",
      "Stored 20 results, 2.29 minutes passed\n",
      "Stored 40 results, 3.81 minutes passed\n",
      "Stored 60 results, 5.19 minutes passed\n",
      "Stored 80 results, 7.05 minutes passed\n",
      "Stored 100 results, 8.12 minutes passed\n",
      "Stored 120 results, 9.12 minutes passed\n",
      "Stored 140 results, 10.18 minutes passed\n",
      "Stored 160 results, 11.31 minutes passed\n",
      "Stored 180 results, 12.72 minutes passed\n",
      "Stored 200 results, 13.74 minutes passed\n",
      "Finished! Spent 15.76 minutes\n"
     ]
    }
   ],
   "source": [
    "start = time.time()\n",
    "datas = []\n",
    "\n",
    "# get all the grib file names of one day\n",
    "r = requests.get(PATH_DOWNLOAD)\n",
    "grib_file_names = re.findall(PATTERN_FORECAST, r.text)\n",
    "grib_file_names = sorted(list(set(grib_file_names)))\n",
    "print('Number of grib files', len(grib_file_names))\n",
    "print(grib_file_names[0], grib_file_names[-1])\n",
    "\n",
    "# from each grib file extract temperature data\n",
    "for i, file in enumerate(grib_file_names):\n",
    "    url = PATH_DOWNLOAD + file\n",
    "    r = requests.get(url)\n",
    "    f = open(PATH_TMP, 'wb').write(r.content)\n",
    "    data = get_temperature_from_grib(PATH_TMP, LAT, LON)\n",
    "    datas.append(data)\n",
    "    \n",
    "    # monitoring\n",
    "    if i % MONITORING == 0:\n",
    "        print('Stored {} results, {:.2f} minutes passed'.format(i, (time.time() - start) / 60))\n",
    "        \n",
    "print('Finished! Spent {:.2f} minutes'.format((time.time() - start) / 60))"
   ]
  },
  {
   "cell_type": "code",
   "execution_count": 33,
   "metadata": {},
   "outputs": [],
   "source": [
    "df_nam = pd.DataFrame(datas, columns = COLUMNS)\n",
    "df_nam['created_at'] = datetime.now().strftime('%Y-%m-%d %H:%M:%S')"
   ]
  },
  {
   "cell_type": "code",
   "execution_count": 34,
   "metadata": {},
   "outputs": [
    {
     "data": {
      "text/plain": [
       "(212, 12)"
      ]
     },
     "execution_count": 34,
     "metadata": {},
     "output_type": "execute_result"
    }
   ],
   "source": [
    "df_nam.shape"
   ]
  },
  {
   "cell_type": "code",
   "execution_count": 35,
   "metadata": {},
   "outputs": [
    {
     "data": {
      "text/html": [
       "<div>\n",
       "<style scoped>\n",
       "    .dataframe tbody tr th:only-of-type {\n",
       "        vertical-align: middle;\n",
       "    }\n",
       "\n",
       "    .dataframe tbody tr th {\n",
       "        vertical-align: top;\n",
       "    }\n",
       "\n",
       "    .dataframe thead th {\n",
       "        text-align: right;\n",
       "    }\n",
       "</style>\n",
       "<table border=\"1\" class=\"dataframe\">\n",
       "  <thead>\n",
       "    <tr style=\"text-align: right;\">\n",
       "      <th></th>\n",
       "      <th>name</th>\n",
       "      <th>latitude</th>\n",
       "      <th>longitude</th>\n",
       "      <th>level</th>\n",
       "      <th>typeOfLevel</th>\n",
       "      <th>dataDate</th>\n",
       "      <th>dataTime</th>\n",
       "      <th>validityDate</th>\n",
       "      <th>validityTime</th>\n",
       "      <th>value</th>\n",
       "      <th>units</th>\n",
       "      <th>created_at</th>\n",
       "    </tr>\n",
       "  </thead>\n",
       "  <tbody>\n",
       "    <tr>\n",
       "      <th>0</th>\n",
       "      <td>Temperature</td>\n",
       "      <td>39.83</td>\n",
       "      <td>-104.65</td>\n",
       "      <td>0</td>\n",
       "      <td>surface</td>\n",
       "      <td>20200718</td>\n",
       "      <td>0</td>\n",
       "      <td>20200718</td>\n",
       "      <td>0</td>\n",
       "      <td>310.358404</td>\n",
       "      <td>K</td>\n",
       "      <td>2020-07-20 00:24:17</td>\n",
       "    </tr>\n",
       "    <tr>\n",
       "      <th>1</th>\n",
       "      <td>Temperature</td>\n",
       "      <td>39.83</td>\n",
       "      <td>-104.65</td>\n",
       "      <td>0</td>\n",
       "      <td>surface</td>\n",
       "      <td>20200718</td>\n",
       "      <td>0</td>\n",
       "      <td>20200718</td>\n",
       "      <td>100</td>\n",
       "      <td>306.169533</td>\n",
       "      <td>K</td>\n",
       "      <td>2020-07-20 00:24:17</td>\n",
       "    </tr>\n",
       "    <tr>\n",
       "      <th>2</th>\n",
       "      <td>Temperature</td>\n",
       "      <td>39.83</td>\n",
       "      <td>-104.65</td>\n",
       "      <td>0</td>\n",
       "      <td>surface</td>\n",
       "      <td>20200718</td>\n",
       "      <td>0</td>\n",
       "      <td>20200718</td>\n",
       "      <td>200</td>\n",
       "      <td>302.576830</td>\n",
       "      <td>K</td>\n",
       "      <td>2020-07-20 00:24:17</td>\n",
       "    </tr>\n",
       "    <tr>\n",
       "      <th>3</th>\n",
       "      <td>Temperature</td>\n",
       "      <td>39.83</td>\n",
       "      <td>-104.65</td>\n",
       "      <td>0</td>\n",
       "      <td>surface</td>\n",
       "      <td>20200718</td>\n",
       "      <td>0</td>\n",
       "      <td>20200718</td>\n",
       "      <td>300</td>\n",
       "      <td>299.615338</td>\n",
       "      <td>K</td>\n",
       "      <td>2020-07-20 00:24:17</td>\n",
       "    </tr>\n",
       "    <tr>\n",
       "      <th>4</th>\n",
       "      <td>Temperature</td>\n",
       "      <td>39.83</td>\n",
       "      <td>-104.65</td>\n",
       "      <td>0</td>\n",
       "      <td>surface</td>\n",
       "      <td>20200718</td>\n",
       "      <td>0</td>\n",
       "      <td>20200718</td>\n",
       "      <td>400</td>\n",
       "      <td>296.861486</td>\n",
       "      <td>K</td>\n",
       "      <td>2020-07-20 00:24:17</td>\n",
       "    </tr>\n",
       "  </tbody>\n",
       "</table>\n",
       "</div>"
      ],
      "text/plain": [
       "          name  latitude  longitude  level typeOfLevel  dataDate  dataTime  \\\n",
       "0  Temperature     39.83    -104.65      0     surface  20200718         0   \n",
       "1  Temperature     39.83    -104.65      0     surface  20200718         0   \n",
       "2  Temperature     39.83    -104.65      0     surface  20200718         0   \n",
       "3  Temperature     39.83    -104.65      0     surface  20200718         0   \n",
       "4  Temperature     39.83    -104.65      0     surface  20200718         0   \n",
       "\n",
       "   validityDate  validityTime       value units           created_at  \n",
       "0      20200718             0  310.358404     K  2020-07-20 00:24:17  \n",
       "1      20200718           100  306.169533     K  2020-07-20 00:24:17  \n",
       "2      20200718           200  302.576830     K  2020-07-20 00:24:17  \n",
       "3      20200718           300  299.615338     K  2020-07-20 00:24:17  \n",
       "4      20200718           400  296.861486     K  2020-07-20 00:24:17  "
      ]
     },
     "execution_count": 35,
     "metadata": {},
     "output_type": "execute_result"
    }
   ],
   "source": [
    "df_nam.head()"
   ]
  },
  {
   "cell_type": "code",
   "execution_count": 36,
   "metadata": {},
   "outputs": [
    {
     "data": {
      "text/html": [
       "<div>\n",
       "<style scoped>\n",
       "    .dataframe tbody tr th:only-of-type {\n",
       "        vertical-align: middle;\n",
       "    }\n",
       "\n",
       "    .dataframe tbody tr th {\n",
       "        vertical-align: top;\n",
       "    }\n",
       "\n",
       "    .dataframe thead th {\n",
       "        text-align: right;\n",
       "    }\n",
       "</style>\n",
       "<table border=\"1\" class=\"dataframe\">\n",
       "  <thead>\n",
       "    <tr style=\"text-align: right;\">\n",
       "      <th></th>\n",
       "      <th>name</th>\n",
       "      <th>latitude</th>\n",
       "      <th>longitude</th>\n",
       "      <th>level</th>\n",
       "      <th>typeOfLevel</th>\n",
       "      <th>dataDate</th>\n",
       "      <th>dataTime</th>\n",
       "      <th>validityDate</th>\n",
       "      <th>validityTime</th>\n",
       "      <th>value</th>\n",
       "      <th>units</th>\n",
       "      <th>created_at</th>\n",
       "    </tr>\n",
       "  </thead>\n",
       "  <tbody>\n",
       "    <tr>\n",
       "      <th>207</th>\n",
       "      <td>Temperature</td>\n",
       "      <td>39.83</td>\n",
       "      <td>-104.65</td>\n",
       "      <td>0</td>\n",
       "      <td>surface</td>\n",
       "      <td>20200718</td>\n",
       "      <td>1800</td>\n",
       "      <td>20200721</td>\n",
       "      <td>1800</td>\n",
       "      <td>307.534087</td>\n",
       "      <td>K</td>\n",
       "      <td>2020-07-20 00:24:17</td>\n",
       "    </tr>\n",
       "    <tr>\n",
       "      <th>208</th>\n",
       "      <td>Temperature</td>\n",
       "      <td>39.83</td>\n",
       "      <td>-104.65</td>\n",
       "      <td>0</td>\n",
       "      <td>surface</td>\n",
       "      <td>20200718</td>\n",
       "      <td>1800</td>\n",
       "      <td>20200721</td>\n",
       "      <td>2100</td>\n",
       "      <td>306.153102</td>\n",
       "      <td>K</td>\n",
       "      <td>2020-07-20 00:24:17</td>\n",
       "    </tr>\n",
       "    <tr>\n",
       "      <th>209</th>\n",
       "      <td>Temperature</td>\n",
       "      <td>39.83</td>\n",
       "      <td>-104.65</td>\n",
       "      <td>0</td>\n",
       "      <td>surface</td>\n",
       "      <td>20200718</td>\n",
       "      <td>1800</td>\n",
       "      <td>20200722</td>\n",
       "      <td>0</td>\n",
       "      <td>297.471656</td>\n",
       "      <td>K</td>\n",
       "      <td>2020-07-20 00:24:17</td>\n",
       "    </tr>\n",
       "    <tr>\n",
       "      <th>210</th>\n",
       "      <td>Temperature</td>\n",
       "      <td>39.83</td>\n",
       "      <td>-104.65</td>\n",
       "      <td>0</td>\n",
       "      <td>surface</td>\n",
       "      <td>20200718</td>\n",
       "      <td>1800</td>\n",
       "      <td>20200722</td>\n",
       "      <td>300</td>\n",
       "      <td>290.793657</td>\n",
       "      <td>K</td>\n",
       "      <td>2020-07-20 00:24:17</td>\n",
       "    </tr>\n",
       "    <tr>\n",
       "      <th>211</th>\n",
       "      <td>Temperature</td>\n",
       "      <td>39.83</td>\n",
       "      <td>-104.65</td>\n",
       "      <td>0</td>\n",
       "      <td>surface</td>\n",
       "      <td>20200718</td>\n",
       "      <td>1800</td>\n",
       "      <td>20200722</td>\n",
       "      <td>600</td>\n",
       "      <td>288.961214</td>\n",
       "      <td>K</td>\n",
       "      <td>2020-07-20 00:24:17</td>\n",
       "    </tr>\n",
       "  </tbody>\n",
       "</table>\n",
       "</div>"
      ],
      "text/plain": [
       "            name  latitude  longitude  level typeOfLevel  dataDate  dataTime  \\\n",
       "207  Temperature     39.83    -104.65      0     surface  20200718      1800   \n",
       "208  Temperature     39.83    -104.65      0     surface  20200718      1800   \n",
       "209  Temperature     39.83    -104.65      0     surface  20200718      1800   \n",
       "210  Temperature     39.83    -104.65      0     surface  20200718      1800   \n",
       "211  Temperature     39.83    -104.65      0     surface  20200718      1800   \n",
       "\n",
       "     validityDate  validityTime       value units           created_at  \n",
       "207      20200721          1800  307.534087     K  2020-07-20 00:24:17  \n",
       "208      20200721          2100  306.153102     K  2020-07-20 00:24:17  \n",
       "209      20200722             0  297.471656     K  2020-07-20 00:24:17  \n",
       "210      20200722           300  290.793657     K  2020-07-20 00:24:17  \n",
       "211      20200722           600  288.961214     K  2020-07-20 00:24:17  "
      ]
     },
     "execution_count": 36,
     "metadata": {},
     "output_type": "execute_result"
    }
   ],
   "source": [
    "df_nam.tail()"
   ]
  },
  {
   "cell_type": "markdown",
   "metadata": {},
   "source": [
    "## Save dataframe"
   ]
  },
  {
   "cell_type": "code",
   "execution_count": 37,
   "metadata": {},
   "outputs": [],
   "source": [
    "pickle.dump(df_nam, open(PATH_DF_01, 'wb'))"
   ]
  },
  {
   "cell_type": "markdown",
   "metadata": {},
   "source": [
    "## Upload RDS"
   ]
  },
  {
   "cell_type": "code",
   "execution_count": 38,
   "metadata": {},
   "outputs": [
    {
     "data": {
      "text/plain": [
       "name             object\n",
       "latitude        float64\n",
       "longitude       float64\n",
       "level             int64\n",
       "typeOfLevel      object\n",
       "dataDate          int64\n",
       "dataTime          int64\n",
       "validityDate      int64\n",
       "validityTime      int64\n",
       "value           float64\n",
       "units            object\n",
       "created_at       object\n",
       "dtype: object"
      ]
     },
     "execution_count": 38,
     "metadata": {},
     "output_type": "execute_result"
    }
   ],
   "source": [
    "df_nam.dtypes"
   ]
  },
  {
   "cell_type": "code",
   "execution_count": 39,
   "metadata": {},
   "outputs": [
    {
     "name": "stdout",
     "output_type": "stream",
     "text": [
      "number of records inserted 212\n"
     ]
    }
   ],
   "source": [
    "val_to_insert = df_nam.values.tolist()\n",
    "print('number of records inserted', len(val_to_insert))\n",
    "\n",
    "# connection\n",
    "connection = pymysql.connect(host = HOST,\n",
    "                             user = USER,\n",
    "                             password = PASSWORD,\n",
    "                             port = PORT,\n",
    "                             db = DB)\n",
    "\n",
    "# query, adding for all the columns doesn't neet column names\n",
    "query = \"\"\"\n",
    "INSERT INTO jupyterdb.nam_data\n",
    "VALUES (%s, %s, %s, %s, %s, %s, \n",
    "        %s, %s, %s, %s, %s, %s)\n",
    "\"\"\"\n",
    "\n",
    "# execute\n",
    "cursor = connection.cursor()\n",
    "cursor.executemany(query, val_to_insert)\n",
    "connection.commit()"
   ]
  },
  {
   "cell_type": "markdown",
   "metadata": {},
   "source": [
    "## Delete temporary file"
   ]
  },
  {
   "cell_type": "code",
   "execution_count": 40,
   "metadata": {},
   "outputs": [
    {
     "name": "stdout",
     "output_type": "stream",
     "text": [
      "The file exists\n",
      "Success to delete\n"
     ]
    }
   ],
   "source": [
    "if os.path.exists(PATH_TMP):\n",
    "    print('The file exists')\n",
    "    os.remove(PATH_TMP)\n",
    "    \n",
    "    if os.path.exists(PATH_TMP):\n",
    "        print('Failed to delete')\n",
    "    else:\n",
    "        print('Success to delete')\n",
    "else:\n",
    "    print('The file does not exist')"
   ]
  },
  {
   "cell_type": "code",
   "execution_count": 2,
   "metadata": {},
   "outputs": [
    {
     "name": "stdout",
     "output_type": "stream",
     "text": [
      "2020-07-21 01:22:14.159325\n"
     ]
    }
   ],
   "source": [
    "print(datetime.now())"
   ]
  }
 ],
 "metadata": {
  "kernelspec": {
   "display_name": "Python 3",
   "language": "python",
   "name": "python3"
  },
  "language_info": {
   "codemirror_mode": {
    "name": "ipython",
    "version": 3
   },
   "file_extension": ".py",
   "mimetype": "text/x-python",
   "name": "python",
   "nbconvert_exporter": "python",
   "pygments_lexer": "ipython3",
   "version": "3.6.9"
  }
 },
 "nbformat": 4,
 "nbformat_minor": 4
}
